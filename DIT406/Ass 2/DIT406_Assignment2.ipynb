{
  "nbformat": 4,
  "nbformat_minor": 0,
  "metadata": {
    "colab": {
      "name": "DIT406_Assignment2.ipynb",
      "provenance": [],
      "collapsed_sections": [
        "-GpQczY2_Zcv",
        "cAHZQ8S1ANO8",
        "JvoaLkPuAj2E",
        "_HtycSqjTx0t",
        "t9DtW1tEOMQu",
        "uACRF2aBxDkV"
      ]
    },
    "kernelspec": {
      "name": "python3",
      "display_name": "Python 3"
    },
    "language_info": {
      "name": "python"
    }
  },
  "cells": [
    {
      "cell_type": "markdown",
      "metadata": {
        "id": "-GpQczY2_Zcv"
      },
      "source": [
        "### Importing Packages"
      ]
    },
    {
      "cell_type": "code",
      "metadata": {
        "id": "PR6sPmOAtNLV"
      },
      "source": [
        "import numpy as np\n",
        "import pandas as pd\n",
        "import matplotlib\n",
        "import matplotlib.pyplot as plt\n",
        "import matplotlib.ticker as ticker\n",
        "import seaborn as sns\n",
        "from matplotlib.colors import ListedColormap\n",
        "\n",
        "from sklearn import datasets\n",
        "from sklearn.model_selection import train_test_split\n",
        "from sklearn.neighbors import KNeighborsClassifier\n",
        "from sklearn.linear_model import LogisticRegression\n",
        "from sklearn import metrics\n"
      ],
      "execution_count": 1,
      "outputs": []
    },
    {
      "cell_type": "markdown",
      "metadata": {
        "id": "cAHZQ8S1ANO8"
      },
      "source": [
        "### Loading Data and plotting data"
      ]
    },
    {
      "cell_type": "code",
      "metadata": {
        "id": "tURfXrgDASYj"
      },
      "source": [
        "#loading dataset\n",
        "iris = datasets.load_iris()\n",
        "\n",
        "# Plotting\n",
        "X_plot = iris.data[:,:2]\n",
        "Y_plot = iris.target\n",
        "\n",
        "cmap_light = ListedColormap([\"orange\", \"cyan\", \"cornflowerblue\"])\n",
        "cmap_bold = [\"darkorange\", \"c\", \"darkblue\"]\n",
        "\n",
        "fig, ax = plt.subplots()\n",
        "plt.title('Iris Dataset')\n",
        "plt.xlabel(iris.feature_names[0])\n",
        "plt.ylabel(iris.feature_names[1])\n",
        "sns.scatterplot(\n",
        "    x = X_plot[:,0],y = X_plot[:,1],\n",
        "    hue = iris.target_names[Y_plot],palette = cmap_bold, alpha = 1.0,\n",
        "    edgecolor = \"black\"\n",
        ")\n",
        "plt.show()"
      ],
      "execution_count": null,
      "outputs": []
    },
    {
      "cell_type": "markdown",
      "metadata": {
        "id": "JvoaLkPuAj2E"
      },
      "source": [
        "## Logistic Regression"
      ]
    },
    {
      "cell_type": "code",
      "metadata": {
        "id": "4U0lG4d-AmA2"
      },
      "source": [
        "# Splitting data into training and testing\n",
        "X_train, X_test, y_train, y_test = train_test_split(iris.data[:,:2],iris.target,test_size = 0.2, random_state = 25 )\n",
        "\n",
        "logisticRegr = LogisticRegression()\n",
        "logisticRegr.fit(X_train,y_train)\n",
        "\n",
        "y_pred = logisticRegr.predict(X_test)\n",
        "\n",
        "acc = logisticRegr.score(X_test,y_test)\n",
        "\n",
        "print('Accuracy: {:.2f}'.format(logisticRegr.score(X_test,y_test)))\n",
        "\n",
        "\n"
      ],
      "execution_count": null,
      "outputs": []
    },
    {
      "cell_type": "markdown",
      "metadata": {
        "id": "s1swZzOac_JH"
      },
      "source": [
        "### Plotting result"
      ]
    },
    {
      "cell_type": "code",
      "metadata": {
        "id": "04X2Jz2mc3sU"
      },
      "source": [
        "\n",
        "h = 0.02\n",
        "x_min, x_max = X_train[:, 0].min() - 1, X_train[:, 0].max() + 1\n",
        "y_min, y_max = X_train[:, 1].min() - 1, X_train[:, 1].max() + 1\n",
        "xx, yy = np.meshgrid(np.arange(x_min, x_max, h), np.arange(y_min, y_max, h))\n",
        "Z = logisticRegr.predict(np.c_[xx.ravel(), yy.ravel()])\n",
        "\n",
        "Z = Z.reshape(xx.shape)\n",
        "plt.figure(figsize=(8, 6))\n",
        "plt.contourf(xx, yy, Z, cmap=cmap_light)\n",
        "\n",
        "sns.scatterplot(\n",
        "    x = X_test[:,0],y = X_test[:,1],\n",
        "    hue = iris.target_names[y_test],palette = cmap_bold, alpha = 1.0,\n",
        "    edgecolor = \"black\"\n",
        ")\n",
        "\n",
        "\n",
        "plt.xlabel(iris.feature_names[0])\n",
        "plt.ylabel(iris.feature_names[1])\n",
        "\n",
        "plt.title(' Classification with Logistic Regression (acc = %1.2f)' %acc)\n",
        "\n",
        "\n"
      ],
      "execution_count": null,
      "outputs": []
    },
    {
      "cell_type": "markdown",
      "metadata": {
        "id": "XQvp8jCDFEWg"
      },
      "source": [
        "### Confusion Matrix"
      ]
    },
    {
      "cell_type": "code",
      "metadata": {
        "id": "HwEM_C3eENi5"
      },
      "source": [
        "from sklearn.metrics import confusion_matrix\n",
        "conf_mat = confusion_matrix(y_test,y_pred)\n",
        "\n",
        "plt.figure(figsize=(9,9))\n",
        "sns.heatmap(conf_mat, annot=True, fmt=\"d\", linewidths=.5, square = True, cmap = 'Greens')\n",
        "plt.ylabel('Actual label');\n",
        "plt.xlabel('Predicted label');\n",
        "all_sample_title = 'Accuracy Score: %.2f' % acc\n",
        "plt.title(all_sample_title, size = 15);\n",
        "plt.show();"
      ],
      "execution_count": null,
      "outputs": []
    },
    {
      "cell_type": "markdown",
      "metadata": {
        "id": "_HtycSqjTx0t"
      },
      "source": [
        "## KNN"
      ]
    },
    {
      "cell_type": "code",
      "metadata": {
        "id": "U4aK_61XT0Ly"
      },
      "source": [
        "# Function that takes n = nr of neighbors and w = ['uniform','distance'] (method) and trains a KNN model\n",
        "# Returns the accuracy on the test set and produces a plot with decision boundaries\n",
        "def knn_class(n,w):\n",
        "  knn = KNeighborsClassifier(n_neighbors=n,weights = w)\n",
        "  knn.fit(X_train,y_train)\n",
        "  y_pred_knn = knn.predict(X_test)\n",
        "  acc = metrics.accuracy_score(y_test,y_pred_knn)\n",
        "  print(\"Accuracy:\",acc)\n",
        "\n",
        "  h = 0.02\n",
        "  cmap_light = ListedColormap([\"orange\", \"cyan\", \"cornflowerblue\"])\n",
        "  cmap_bold = [\"darkorange\", \"c\", \"darkblue\"]\n",
        "\n",
        "  x_min, x_max = X_train[:, 0].min() - 1, X_train[:, 0].max() + 1\n",
        "  y_min, y_max = X_train[:, 1].min() - 1, X_train[:, 1].max() + 1\n",
        "  xx, yy = np.meshgrid(np.arange(x_min, x_max, h), np.arange(y_min, y_max, h))\n",
        "  Z = knn.predict(np.c_[xx.ravel(), yy.ravel()])\n",
        "\n",
        "  Z = Z.reshape(xx.shape)\n",
        "  plt.figure(figsize=(8, 6))\n",
        "  plt.contourf(xx, yy, Z, cmap=cmap_light)\n",
        "\n",
        "  sns.scatterplot(\n",
        "    x = X_test[:,0],y = X_test[:,1],\n",
        "    hue = iris.target_names[y_test],palette = cmap_bold, alpha = 1.0,\n",
        "    edgecolor = \"black\"\n",
        "  )\n",
        "\n",
        "  plt.xlabel(iris.feature_names[0])\n",
        "  plt.ylabel(iris.feature_names[1])\n",
        "\n",
        "  plt.title(f'Classification with KNN ({w},k = {n}), acc = {acc:.2f}')\n",
        "\n",
        "  plt.show()\n",
        "\n",
        "  return y_pred_knn\n",
        "\n",
        "\n",
        " "
      ],
      "execution_count": 4,
      "outputs": []
    },
    {
      "cell_type": "code",
      "metadata": {
        "id": "oSKHj6JPYLQO"
      },
      "source": [
        "# Function that takes n = nr of neighbors and w = ['uniform','distance'] (method) and trains a KNN model\n",
        "# returns the accuracy on the test set\n",
        "def knn_acc(n,w):\n",
        "  knn = KNeighborsClassifier(n_neighbors=n,weights = w)\n",
        "  knn.fit(X_train,y_train)\n",
        "  y_pred_knn = knn.predict(X_test)\n",
        "  acc = metrics.accuracy_score(y_test,y_pred_knn)\n",
        "  return acc\n",
        "\n",
        "\n",
        "accuracy_uniform = np.zeros((len(X_train),2))\n",
        "accuracy_distance = np.zeros((len(X_train),2))\n",
        "# for loop that applies the knn_acc function to calculate accuracy for different values of n\n",
        "for i in range(1,len(X_train)):\n",
        "  accuracy_uniform[i][0] = knn_acc(i,'uniform')\n",
        "  accuracy_distance[i][0] = knn_acc(i,'distance')\n",
        "  accuracy_uniform[i][1] = i\n",
        "  accuracy_distance[i][1] = i\n",
        "\n",
        "# Number of neighbors that produces the best accuracy\n",
        "bestk_uniform = 25\n",
        "bestk_distance = 8\n",
        "\n"
      ],
      "execution_count": 5,
      "outputs": []
    },
    {
      "cell_type": "code",
      "metadata": {
        "id": "NC8IUm4XGJUt"
      },
      "source": [
        "# Producing a plot with decision boundaries for KNN (uniform)\n",
        "knn_class(bestk_uniform,'uniform')\n"
      ],
      "execution_count": null,
      "outputs": []
    },
    {
      "cell_type": "code",
      "metadata": {
        "id": "Pxyg5PleNmq6"
      },
      "source": [
        "# Producing a plot with decision boundaries for KNN (distance)\n",
        "knn_class(bestk_distance,'distance')"
      ],
      "execution_count": null,
      "outputs": []
    },
    {
      "cell_type": "markdown",
      "metadata": {
        "id": "t9DtW1tEOMQu"
      },
      "source": [
        "### Plotting Neighbors vs Accuracy"
      ]
    },
    {
      "cell_type": "code",
      "metadata": {
        "id": "wMHNPr0GxaJc"
      },
      "source": [
        "\n",
        "x = np.array(range(1,len(X_train)+1))\n",
        "\n",
        "fig, ax = plt.subplots()\n",
        "plt.plot(x,accuracy_uniform, label = 'Uniform')\n",
        "plt.plot(x,accuracy_distance, label = 'Distance')\n",
        "\n",
        "plt.xlabel('Neighbors')\n",
        "plt.ylabel('Accuracy')\n",
        "plt.title('Accuracy plot using KNN')\n",
        "plt.legend(loc = 'center')\n",
        "\n",
        "plt.ylim((0,1.0))"
      ],
      "execution_count": null,
      "outputs": []
    },
    {
      "cell_type": "markdown",
      "metadata": {
        "id": "uACRF2aBxDkV"
      },
      "source": [
        "### Confusion matrices"
      ]
    },
    {
      "cell_type": "code",
      "metadata": {
        "id": "sRA23WrIxCly"
      },
      "source": [
        "y_uni = knn_class(bestk_uniform,'uniform')\n",
        "\n",
        "conf_mat_uniform = confusion_matrix(y_test,y_uni)\n",
        "\n",
        "plt.figure(figsize=(9,9))\n",
        "sns.heatmap(conf_mat_uniform, annot=True, fmt=\"d\", linewidths=.5, square = True, cmap = 'Greens')\n",
        "plt.ylabel('Actual label');\n",
        "plt.xlabel('Predicted label');\n",
        "all_sample_title = 'KNN Uniform,Accuracy Score: %.2f' % 0.93\n",
        "plt.title(all_sample_title, size = 15);\n",
        "plt.show();"
      ],
      "execution_count": null,
      "outputs": []
    },
    {
      "cell_type": "code",
      "metadata": {
        "id": "Gjd3jdjq4ejP"
      },
      "source": [
        "y_dist = knn_class(bestk_distance,'distance')\n",
        "\n",
        "conf_mat_uniform = confusion_matrix(y_test,y_dist)\n",
        "\n",
        "plt.figure(figsize=(9,9))\n",
        "sns.heatmap(conf_mat_uniform, annot=True, fmt=\"d\", linewidths=.5, square = True, cmap = 'Greens')\n",
        "plt.ylabel('Actual label');\n",
        "plt.xlabel('Predicted label');\n",
        "all_sample_title = 'KNN Distance,Accuracy Score: %.2f' % 0.87\n",
        "plt.title(all_sample_title, size = 15);\n",
        "plt.show();"
      ],
      "execution_count": null,
      "outputs": []
    }
  ]
}