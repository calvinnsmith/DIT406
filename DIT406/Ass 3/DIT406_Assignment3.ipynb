{
  "nbformat": 4,
  "nbformat_minor": 0,
  "metadata": {
    "colab": {
      "name": "DIT406_Assignment3.ipynb",
      "provenance": [],
      "collapsed_sections": [
        "7KooTx9EI4hZ"
      ]
    },
    "kernelspec": {
      "name": "python3",
      "display_name": "Python 3"
    },
    "language_info": {
      "name": "python"
    }
  },
  "cells": [
    {
      "cell_type": "markdown",
      "metadata": {
        "id": "xfPcXXCmIp6i"
      },
      "source": [
        "\n",
        "### Packages\n",
        "\n"
      ]
    },
    {
      "cell_type": "code",
      "metadata": {
        "id": "rR9U4G-rFfxN"
      },
      "source": [
        "import numpy as np\n",
        "import pandas as pd\n",
        "import matplotlib\n",
        "import matplotlib.pyplot as plt\n",
        "import matplotlib.ticker as ticker\n",
        "import seaborn as sns\n",
        "from matplotlib.colors import ListedColormap\n",
        "\n",
        "from sklearn.cluster import DBSCAN\n",
        "from sklearn import metrics\n",
        "from sklearn import datasets\n",
        "from sklearn.datasets import make_blobs\n",
        "from sklearn.preprocessing import StandardScaler"
      ],
      "execution_count": 1,
      "outputs": []
    },
    {
      "cell_type": "markdown",
      "metadata": {
        "id": "0Ns7E36lIwah"
      },
      "source": [
        "### Loading Data"
      ]
    },
    {
      "cell_type": "code",
      "metadata": {
        "colab": {
          "resources": {
            "http://localhost:8080/nbextensions/google.colab/files.js": {
              "data": "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",
              "ok": true,
              "headers": [
                [
                  "content-type",
                  "application/javascript"
                ]
              ],
              "status": 200,
              "status_text": ""
            }
          },
          "base_uri": "https://localhost:8080/",
          "height": 72
        },
        "id": "mp72haSsGC2a",
        "outputId": "98b2a60a-63d0-49c8-9d59-9b8eb8ebe499"
      },
      "source": [
        "from google.colab import files\n",
        "uploaded = files.upload()"
      ],
      "execution_count": 2,
      "outputs": [
        {
          "output_type": "display_data",
          "data": {
            "text/html": [
              "\n",
              "     <input type=\"file\" id=\"files-2cb32397-4378-486b-8ecd-7620e45aef2f\" name=\"files[]\" multiple disabled\n",
              "        style=\"border:none\" />\n",
              "     <output id=\"result-2cb32397-4378-486b-8ecd-7620e45aef2f\">\n",
              "      Upload widget is only available when the cell has been executed in the\n",
              "      current browser session. Please rerun this cell to enable.\n",
              "      </output>\n",
              "      <script src=\"/nbextensions/google.colab/files.js\"></script> "
            ],
            "text/plain": [
              "<IPython.core.display.HTML object>"
            ]
          },
          "metadata": {}
        },
        {
          "output_type": "stream",
          "name": "stdout",
          "text": [
            "Saving assignment3-data.csv to assignment3-data.csv\n"
          ]
        }
      ]
    },
    {
      "cell_type": "code",
      "metadata": {
        "id": "ashUlt-tGFv_"
      },
      "source": [
        "import io \n",
        "\n",
        "#loading data\n",
        "df = pd.read_csv(io.BytesIO(uploaded['assignment3-data.csv']))\n",
        "df.head()\n",
        "\n",
        "#dropping possible NA's\n",
        "df = df.dropna(subset = ['phi','psi'])\n",
        "\n",
        "#variables for shifting data\n",
        "transform = 180\n",
        "phi_shift = 20\n",
        "psi_shift = 300\n",
        "\n",
        "#creating new variables with shifted data\n",
        "df['phi_mod'] = [(element + phi_shift + transform) % 360 for element in df['phi']]\n",
        "df['psi_mod'] = [(element + psi_shift + transform) % 360 for element in df['psi']]\n"
      ],
      "execution_count": null,
      "outputs": []
    },
    {
      "cell_type": "markdown",
      "metadata": {
        "id": "7KooTx9EI4hZ"
      },
      "source": [
        "## Question 1"
      ]
    },
    {
      "cell_type": "code",
      "metadata": {
        "id": "N7Twt0OSGfwi"
      },
      "source": [
        "# Scatter plot\n",
        "plt.figure(figsize=(12, 12))\n",
        "plt.scatter(df.phi, df.psi)\n",
        "plt.xlabel('PHI')\n",
        "plt.ylabel('PSI')\n",
        "plt.title('Distribution of PHI vs PSI')\n",
        "plt.show()"
      ],
      "execution_count": null,
      "outputs": []
    },
    {
      "cell_type": "code",
      "metadata": {
        "id": "2y_iZ_lgH-f7"
      },
      "source": [
        "##HEATMAP\n",
        "fig, ax = plt.subplots()\n",
        "plt.title('Heatmap of PHI vs PSI')\n",
        "sns.histplot(df,x =\"phi\", y = \"psi\")\n",
        "plt.show("
      ],
      "execution_count": null,
      "outputs": []
    },
    {
      "cell_type": "markdown",
      "metadata": {
        "id": "jX_pPIYCDCQ9"
      },
      "source": [
        "## Question 4"
      ]
    },
    {
      "cell_type": "markdown",
      "metadata": {
        "id": "pbffONuDoyE3"
      },
      "source": [
        "### PRO"
      ]
    },
    {
      "cell_type": "code",
      "metadata": {
        "colab": {
          "base_uri": "https://localhost:8080/",
          "height": 730
        },
        "id": "jnh02b-0C65F",
        "outputId": "c1220e85-6644-4473-badb-17fd0827c7e6"
      },
      "source": [
        "# Getting only observations of residue type PRO\n",
        "df_PRO = df[df['residue name'] == 'PRO']\n",
        "\n",
        "#Plotting phi and psi distributionn\n",
        "plt.figure(figsize = (12,12))\n",
        "plt.scatter(df_PRO.phi_mod,df_PRO.psi_mod)\n",
        "plt.xlabel('PHI')\n",
        "plt.ylabel('PSI')\n",
        "plt.title('PHI vs PSI (Residue type PRO)')\n",
        "plt.show()"
      ],
      "execution_count": 146,
      "outputs": [
        {
          "output_type": "display_data",
          "data": {
            "image/png": "[encoded data removed]",
            "text/plain": [
              "<Figure size 864x864 with 1 Axes>"
            ]
          },
          "metadata": {
            "needs_background": "light"
          }
        }
      ]
    },
    {
      "cell_type": "markdown",
      "metadata": {
        "id": "xPfD45JGKUyR"
      },
      "source": [
        "#### Determining minPts and epsilon"
      ]
    },
    {
      "cell_type": "code",
      "metadata": {
        "id": "Qkz7WC0OD4mz"
      },
      "source": [
        "\n",
        "from sklearn.neighbors import NearestNeighbors\n",
        "\n",
        "df_run = df_PRO[['phi_mod','psi_mod']]\n",
        "\n",
        "minPts = 30\n",
        "\n",
        "#finding n nearest (=minPts) neighbors for each point and calculating average distances\n",
        "neighbors = NearestNeighbors(n_neighbors=minPts)\n",
        "neighbors_fit = neighbors.fit(df_run)\n",
        "distances, indices = neighbors_fit.kneighbors(df_run)\n",
        "distances = np.sort(distances, axis=0)\n",
        "distances = distances[:,1]\n",
        "\n",
        "# plotting result\n",
        "plt.plot(distances)\n",
        "plt.xlim(1400,1600)\n",
        "plt.ylim(0,50)\n",
        "plt.ylabel('Avg distance')\n",
        "plt.title('Sorted average distances to 30 nearest neighbors')\n",
        "plt.show()\n",
        "\n",
        "# from the plot it look like epsilon should be around 15"
      ],
      "execution_count": null,
      "outputs": []
    },
    {
      "cell_type": "markdown",
      "metadata": {
        "id": "3xAttqp_Mc_X"
      },
      "source": [
        "#### Running DBSCAN"
      ]
    },
    {
      "cell_type": "code",
      "metadata": {
        "id": "w7nMo35mKSbD"
      },
      "source": [
        "# Set parameters for DBSCAN\n",
        "eps = 15\n",
        "minPts = 30\n",
        "\n",
        "# running DBSCAN\n",
        "dbscan = DBSCAN(eps = eps,min_samples=minPts,metric = 'euclidean')\n",
        "dbscan.fit(df_run)\n",
        "\n",
        "# extracting clustering results\n",
        "labels = dbscan.labels_\n",
        "\n",
        "# adding clustering labels as a column in our dataset\n",
        "df_run['labels'] = labels\n",
        "\n",
        "# nr of clusters obtained\n",
        "nr_of_clusters = len(np.unique(labels))-1\n",
        "\n",
        "# nr of outliers \n",
        "nr_of_outliers = np.sum(labels == -1)"
      ],
      "execution_count": null,
      "outputs": []
    },
    {
      "cell_type": "code",
      "metadata": {
        "id": "-uy0h6oeLHIa"
      },
      "source": [
        "# Plotting result of DBSCAN\n",
        "outliers = df_run[df_run['labels'] == -1]\n",
        "cluster_1 = df_run[df_run['labels'] == 0]\n",
        "cluster_2 = df_run[df_run['labels'] == 1]\n",
        "cluster_3 = df_run[df_run['labels']==2]\n",
        "plt.figure(figsize = (12,12))\n",
        "plt.scatter(outliers.phi_mod,outliers.psi_mod, c = 'black')\n",
        "plt.scatter(cluster_1.phi_mod,cluster_1.psi_mod, c = 'red')\n",
        "plt.scatter(cluster_2.phi_mod,cluster_2.psi_mod, c = 'green')\n",
        "plt.scatter(cluster_3.phi_mod,cluster_3.psi_mod, c = 'blue')\n",
        "plt.xlabel('PHI')\n",
        "plt.ylabel('PSI')\n",
        "plt.title('DBSCAN(minPts = 100,eps = 15), residue type PRO')\n",
        "plt.show()"
      ],
      "execution_count": null,
      "outputs": []
    },
    {
      "cell_type": "markdown",
      "metadata": {
        "id": "Xd6SNuZ3o8gj"
      },
      "source": [
        "### GLY"
      ]
    },
    {
      "cell_type": "code",
      "metadata": {
        "id": "gD4phPB-gMCT"
      },
      "source": [
        "# Data with observations of residue type GLY\n",
        "df_GLY = df[df['residue name'] == 'GLY']\n",
        "\n",
        "# Plotting data\n",
        "plt.figure(figsize = (12,12))\n",
        "plt.scatter(df_GLY.phi_mod,df_GLY.psi_mod)\n",
        "plt.xlabel('PHI')\n",
        "plt.ylabel('PSI')\n",
        "plt.title('PHI vs PSI (residue type GLY)')\n",
        "plt.show()"
      ],
      "execution_count": null,
      "outputs": []
    },
    {
      "cell_type": "markdown",
      "metadata": {
        "id": "xRvJXcYEMAFG"
      },
      "source": [
        "#### Determining minPts and epsilon"
      ]
    },
    {
      "cell_type": "code",
      "metadata": {
        "id": "kA0rKowspd07"
      },
      "source": [
        "df_gly_run = df_GLY[['phi_mod','psi_mod']]\n",
        "\n",
        "minPts = 30\n",
        "\n",
        "# finding n nearest neighbors for each point and calcultaing distances\n",
        "neighbors = NearestNeighbors(n_neighbors=minPts)\n",
        "neighbors_fit = neighbors.fit(df_gly_run)\n",
        "distances, indices = neighbors_fit.kneighbors(df_gly_run)\n",
        "\n",
        "distances = np.sort(distances, axis=0)\n",
        "distances = distances[:,1]\n",
        "\n",
        "#plotting result\n",
        "plt.plot(distances)\n",
        "plt.xlim(2000,2200)\n",
        "plt.ylim(0,30)\n",
        "plt.ylabel('Distance')\n",
        "plt.title('Sorted average distance to 30 nearest neighbors ')\n",
        "\n",
        "#from the plot it look like epsilon should be around 15"
      ],
      "execution_count": null,
      "outputs": []
    },
    {
      "cell_type": "markdown",
      "metadata": {
        "id": "eM6I5C6EMgua"
      },
      "source": [
        "#### Running DBSCAN"
      ]
    },
    {
      "cell_type": "code",
      "metadata": {
        "id": "vrnuPNPxqTLT"
      },
      "source": [
        "eps = 15\n",
        "minPts = 30\n",
        "\n",
        "dbscan = DBSCAN(eps = eps,min_samples=minPts,metric = 'euclidean')\n",
        "dbscan.fit(df_gly_run)\n",
        "\n",
        "labels = dbscan.labels_\n",
        "\n",
        "df_gly_run['labels'] = labels\n",
        "\n",
        "\n",
        "nr_of_clusters = len(np.unique(labels))-1\n",
        "nr_of_outliers = np.sum(labels == -1)\n",
        "\n"
      ],
      "execution_count": null,
      "outputs": []
    },
    {
      "cell_type": "code",
      "metadata": {
        "id": "_kSLiQ15rBT5"
      },
      "source": [
        "# plotting results of DBSCAN on residue type GLY\n",
        "outliers = df_gly_run[df_gly_run['labels'] == -1]\n",
        "cluster_1 = df_gly_run[df_gly_run['labels'] == 0]\n",
        "cluster_2 = df_gly_run[df_gly_run['labels'] == 1]\n",
        "cluster_3 = df_gly_run[df_gly_run['labels'] == 2]\n",
        "cluster_4 = df_gly_run[df_gly_run['labels'] == 3]\n",
        "cluster_5 = df_gly_run[df_gly_run['labels'] == 4]\n",
        "cluster_6 = df_gly_run[df_gly_run['labels'] == 5]\n",
        "\n",
        "\n",
        "plt.figure(figsize = (12,12))\n",
        "plt.scatter(outliers.phi_mod,outliers.psi_mod, c = 'black')\n",
        "plt.scatter(cluster_1.phi_mod,cluster_1.psi_mod, c = 'red')\n",
        "plt.scatter(cluster_2.phi_mod,cluster_2.psi_mod, c = 'green')\n",
        "plt.scatter(cluster_3.phi_mod,cluster_3.psi_mod, c = 'blue')\n",
        "plt.scatter(cluster_4.phi_mod,cluster_4.psi_mod, c = 'yellow')\n",
        "plt.scatter(cluster_5.phi_mod,cluster_5.psi_mod, c = 'orange')\n",
        "plt.scatter(cluster_6.phi_mod,cluster_6.psi_mod, c = 'purple')\n",
        "\n",
        "\n",
        "plt.xlabel('PHI')\n",
        "plt.ylabel('PSI')\n",
        "plt.title('DBSCAN(minPts = 30,eps = 15), residue type GLY')\n",
        "plt.show()\n",
        "\n"
      ],
      "execution_count": null,
      "outputs": []
    }
  ]
}