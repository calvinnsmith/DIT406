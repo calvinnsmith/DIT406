{
  "cells": [
    {
      "cell_type": "code",
      "execution_count": 7,
      "metadata": {
        "id": "02ZYZ-WmdhwH"
      },
      "outputs": [],
      "source": [
        "# imports\n",
        "from __future__ import print_function\n",
        "import keras\n",
        "from keras.datasets import mnist\n",
        "from keras.models import Sequential\n",
        "from keras.layers import Dense, Dropout, Flatten\n",
        "from keras.layers import Conv2D, MaxPooling2D\n",
        "from keras import backend as K\n",
        "import tensorflow as tf\n",
        "from matplotlib import pyplot as plt"
      ]
    },
    {
      "cell_type": "code",
      "execution_count": 8,
      "metadata": {
        "id": "BJRCoRmew8Zd",
        "colab": {
          "base_uri": "https://localhost:8080/"
        },
        "outputId": "b56b6c09-1e44-4484-b581-40339d35eb33"
      },
      "outputs": [
        {
          "output_type": "stream",
          "name": "stdout",
          "text": [
            "Downloading data from https://storage.googleapis.com/tensorflow/tf-keras-datasets/mnist.npz\n",
            "11493376/11490434 [==============================] - 0s 0us/step\n",
            "11501568/11490434 [==============================] - 0s 0us/step\n"
          ]
        }
      ],
      "source": [
        "# Hyper-parameters data-loading and formatting\n",
        "\n",
        "batch_size = 128\n",
        "num_classes = 10\n",
        "epochs = 10\n",
        "\n",
        "img_rows, img_cols = 28, 28\n",
        "\n",
        "(x_train, lbl_train), (x_test, lbl_test) = mnist.load_data()\n",
        "\n",
        "if K.image_data_format() == 'channels_first':\n",
        "    x_train = x_train.reshape(x_train.shape[0], 1, img_rows, img_cols)\n",
        "    x_test = x_test.reshape(x_test.shape[0], 1, img_rows, img_cols)\n",
        "    input_shape = (1, img_rows, img_cols)\n",
        "else:\n",
        "    x_train = x_train.reshape(x_train.shape[0], img_rows, img_cols, 1)\n",
        "    x_test = x_test.reshape(x_test.shape[0], img_rows, img_cols, 1)\n",
        "    input_shape = (img_rows, img_cols, 1)"
      ]
    },
    {
      "cell_type": "markdown",
      "metadata": {
        "id": "-I3g1RrZ0wpI"
      },
      "source": [
        "**Preprocessing**"
      ]
    },
    {
      "cell_type": "code",
      "execution_count": 9,
      "metadata": {
        "id": "UswCCQLS0s1I"
      },
      "outputs": [],
      "source": [
        "import matplotlib.pyplot as plt\n",
        "\n",
        "x_train = x_train.astype('float32')\n",
        "x_test = x_test.astype('float32')\n",
        "\n",
        "# Exponential part of a 32 bit float is 8 bits which holds values from 0 to 255. Division by\n",
        "# 255 for each element will normalize it to a value between 0 and 1.\n",
        "x_train /= 255\n",
        "x_test /= 255\n",
        "\n",
        "y_train = keras.utils.np_utils.to_categorical(lbl_train, num_classes)\n",
        "y_test = keras.utils.np_utils.to_categorical(lbl_test, num_classes)"
      ]
    },
    {
      "cell_type": "code",
      "source": [
        "from tensorflow.keras import optimizers\n",
        "from tensorflow.keras import regularizers\n",
        "import numpy as np\n",
        "import matplotlib.pyplot as plt\n",
        "import statistics \n",
        "import pandas as pd\n",
        "from google.colab import files\n",
        "\n",
        "regularization_factors = np.linspace(0.000001, 0.001, 5)\n",
        "\n",
        "# scores = []\n",
        "# epochs = 40\n",
        "\n",
        "# for i in range(5):\n",
        "#     for _ in range(3):\n",
        "#         model = Sequential()\n",
        "#         model.add(Flatten())\n",
        "#         model.add(Dense(500, activation = 'relu', kernel_regularizer=regularizers.l2(regularization_factors[i])))\n",
        "#         model.add(Dense(300, activation = 'relu', kernel_regularizer=regularizers.l2(regularization_factors[i])))\n",
        "#         model.add(Dense(num_classes, activation='softmax'))\n",
        "\n",
        "\n",
        "#         model.compile(loss=keras.losses.categorical_crossentropy,\n",
        "#                        optimizer= optimizers.SGD(learning_rate = 0.1),\n",
        "#                 metrics=['accuracy'],)\n",
        "\n",
        "#         fit_info = model.fit(x_train, y_train,\n",
        "#                    batch_size=batch_size,\n",
        "#                    epochs=epochs,\n",
        "#                    verbose=0,\n",
        "#                    validation_data=(x_test, y_test))\n",
        "#         score = model.evaluate(x_test, y_test, verbose=0)\n",
        "\n",
        "#         scores.append(score)\n",
        "\n",
        "# results = pd.DataFrame(scores, columns=['loss', 'accuracy'])\n",
        "\n",
        "# results.to_csv('results.csv')\n",
        "# files.download('results.csv')\n",
        "\n",
        "\n",
        "results = pd.read_csv('results.csv')\n",
        "accuracy = results['accuracy']\n",
        "\n",
        "mean_vals = []\n",
        "std_vals = []\n",
        "\n",
        "for i in range(5):\n",
        "    mean_vals.append(statistics.mean(accuracy[i*3:i*3+3]))\n",
        "    std_vals.append(statistics.stdev(accuracy[i*3:i*3+3]))\n",
        "\n",
        "x = regularization_factors\n",
        "y = mean_vals # the accuracies\n",
        "e = std_vals # the std\n",
        "\n",
        "plt.xlabel('Regularization Factors')\n",
        "plt.ylabel('Validation Accuracy')\n",
        "\n",
        "plt.errorbar(x, y, e, linestyle='None', marker='.', capsize=2)\n",
        "\n",
        "\n",
        "plt.show()"
      ],
      "metadata": {
        "id": "abN_eP7o7gjA",
        "colab": {
          "base_uri": "https://localhost:8080/",
          "height": 279
        },
        "outputId": "e3de0afe-bd11-4213-f0ef-4db212b3f840"
      },
      "execution_count": 23,
      "outputs": [
        {
          "output_type": "display_data",
          "data": {
            "image/png": "[encoded data removed]",
            "text/plain": [
              "<Figure size 432x288 with 1 Axes>"
            ]
          },
          "metadata": {
            "needs_background": "light"
          }
        }
      ]
    },
    {
      "cell_type": "code",
      "source": [
        "# Question 3. Use Model with 2 Convolutional Layers\n",
        "\n",
        "from tensorflow.keras.datasets import mnist\n",
        "from matplotlib import pyplot as plt\n",
        "from tensorflow.keras import optimizers\n",
        "\n",
        "epochs = 10\n",
        "batch_size = 128\n",
        "num_classes = 10\n",
        "\n",
        "def model_1(name, filters):\n",
        "  model = Sequential()\n",
        "\n",
        "  model.add(Conv2D(filters=filters, kernel_size=(3,3), activation='relu'))\n",
        "  model.add(MaxPooling2D(pool_size=(2,2), strides=2, padding='valid'))\n",
        "  model.add(Dropout(0.5))\n",
        "  model.add(Conv2D(filters=filters, kernel_size=(3,3), activation='relu'))\n",
        "  model.add(Flatten())\n",
        "  model.add(Dense(num_classes, activation='softmax'))\n",
        "\n",
        "  model.compile(loss=keras.losses.categorical_crossentropy,\n",
        "                optimizer= optimizers.SGD(learning_rate = 0.1),\n",
        "          metrics=['accuracy'],)\n",
        "\n",
        "  fit_info = model.fit(x_train, y_train,\n",
        "            batch_size=batch_size,\n",
        "            epochs=epochs,\n",
        "            verbose=0,\n",
        "            validation_data=(x_test, y_test))\n",
        "  score = model.evaluate(x_test, y_test, verbose=0)\n",
        "\n",
        "  print('Test loss: {}, Test accuracy {} for {}'.format(score[0], score[1], name))\n",
        "\n",
        "\n",
        "model_1(\"32 filters\", 32)\n",
        "model_1(\"64 filters\", 64)\n",
        "model_1(\"128 filters\", 128)"
      ],
      "metadata": {
        "id": "qf2-aWntbSol",
        "colab": {
          "base_uri": "https://localhost:8080/"
        },
        "outputId": "c80db852-ea5a-4edc-fce7-988dae01607d"
      },
      "execution_count": 12,
      "outputs": [
        {
          "output_type": "stream",
          "name": "stdout",
          "text": [
            "Test loss: 0.03993663191795349, Test accuracy 0.9866999983787537 for 32 filters\n",
            "Test loss: 0.04289871081709862, Test accuracy 0.9854999780654907 for 64 filters\n",
            "Test loss: 0.03744689002633095, Test accuracy 0.9876000285148621 for 128 filters\n"
          ]
        }
      ]
    },
    {
      "cell_type": "code",
      "source": [
        "def model_2(name, units):\n",
        "  model = Sequential()\n",
        "\n",
        "  model.add(Conv2D(filters=32, kernel_size=(3,3), activation='relu'))\n",
        "  model.add(MaxPooling2D(pool_size=(2,2), strides=2, padding='valid'))\n",
        "  model.add(Dropout(0.5))\n",
        "  model.add(Conv2D(filters=32, kernel_size=(3,3), activation='relu'))\n",
        "  model.add(Flatten())\n",
        "  model.add(Dense(units, activation='relu'))\n",
        "  model.add(Dense(num_classes, activation='softmax'))\n",
        "\n",
        "  model.compile(loss=keras.losses.categorical_crossentropy,\n",
        "                optimizer= optimizers.SGD(learning_rate = 0.1),\n",
        "          metrics=['accuracy'],)\n",
        "\n",
        "  fit_info = model.fit(x_train, y_train,\n",
        "            batch_size=batch_size,\n",
        "            epochs=epochs,\n",
        "            verbose=0,\n",
        "            validation_data=(x_test, y_test))\n",
        "  score = model.evaluate(x_test, y_test, verbose=0)\n",
        "\n",
        "  print('Test loss: {}, Test accuracy {} for {}'.format(score[0], score[1], name))\n",
        "\n",
        "model_2(\"32 Units\", 32)\n",
        "model_2(\"64 Units\", 64)\n",
        "model_2(\"128 Units\", 128)"
      ],
      "metadata": {
        "colab": {
          "base_uri": "https://localhost:8080/"
        },
        "id": "YRWJgIohxTFp",
        "outputId": "bc750713-0920-4fa1-8012-d8d4cf083e38"
      },
      "execution_count": 13,
      "outputs": [
        {
          "output_type": "stream",
          "name": "stdout",
          "text": [
            "Test loss: 0.03701183944940567, Test accuracy 0.9879000186920166 for 32 Units\n",
            "Test loss: 0.035434868186712265, Test accuracy 0.9873999953269958 for 64 Units\n",
            "Test loss: 0.0378899984061718, Test accuracy 0.9872000217437744 for 128 Units\n"
          ]
        }
      ]
    },
    {
      "cell_type": "code",
      "source": [
        "def model_3(name, dropout):\n",
        "  model = Sequential()\n",
        "\n",
        "  model.add(Conv2D(filters=32, kernel_size=(3,3), activation='relu'))\n",
        "  model.add(MaxPooling2D(pool_size=(2,2), strides=2, padding='valid'))\n",
        "  model.add(Dropout(dropout))\n",
        "  model.add(Conv2D(filters=32, kernel_size=(3,3), activation='relu'))\n",
        "  model.add(Flatten())\n",
        "  model.add(Dense(32, activation='relu'))\n",
        "  model.add(Dense(num_classes, activation='softmax'))\n",
        "\n",
        "  model.compile(loss=keras.losses.categorical_crossentropy,\n",
        "                optimizer= optimizers.SGD(learning_rate = 0.1),\n",
        "          metrics=['accuracy'],)\n",
        "\n",
        "  fit_info = model.fit(x_train, y_train,\n",
        "            batch_size=batch_size,\n",
        "            epochs=epochs,\n",
        "            verbose=0,\n",
        "            validation_data=(x_test, y_test))\n",
        "  score = model.evaluate(x_test, y_test, verbose=0)\n",
        "\n",
        "  print('Test loss: {}, Test accuracy {} for {}'.format(score[0], score[1], name))\n",
        "  return model\n",
        "\n",
        "model_3(\"Dropout 0.5\", 0.5)\n",
        "model_3(\"Dropout 0.65\", 0.65)\n",
        "model_3(\"Dropout 0.8\", 0.8)"
      ],
      "metadata": {
        "colab": {
          "base_uri": "https://localhost:8080/"
        },
        "id": "jV3A0NSP1H7I",
        "outputId": "e464057a-3f5e-4cff-f346-c33c66641d0d"
      },
      "execution_count": 14,
      "outputs": [
        {
          "output_type": "stream",
          "name": "stdout",
          "text": [
            "Test loss: 0.04241444170475006, Test accuracy 0.9851999878883362 for Dropout 0.5\n",
            "Test loss: 0.03968164324760437, Test accuracy 0.9872999787330627 for Dropout 0.65\n",
            "Test loss: 0.0506596565246582, Test accuracy 0.9837999939918518 for Dropout 0.8\n",
            "INFO:tensorflow:Assets written to: ram://6bd11023-87b9-4dbb-b098-accbab1ae8e7/assets\n"
          ]
        }
      ]
    },
    {
      "cell_type": "code",
      "source": [
        "import pickle\n",
        "\n",
        "def model_final(name):\n",
        "  model = Sequential()\n",
        "\n",
        "  model.add(Conv2D(filters=32, kernel_size=(3,3), activation='relu'))\n",
        "  model.add(MaxPooling2D(pool_size=(2,2), strides=2, padding='valid'))\n",
        "  model.add(Dropout(0.5))\n",
        "  model.add(Conv2D(filters=32, kernel_size=(3,3), activation='relu'))\n",
        "  model.add(Flatten())\n",
        "  model.add(Dense(32, activation='relu'))\n",
        "  model.add(Dense(num_classes, activation='softmax'))\n",
        "\n",
        "  model.compile(loss=keras.losses.categorical_crossentropy,\n",
        "                optimizer= optimizers.SGD(learning_rate = 0.1),\n",
        "          metrics=['accuracy'],)\n",
        "\n",
        "  fit_info = model.fit(x_train, y_train,\n",
        "            batch_size=batch_size,\n",
        "            epochs=epochs,\n",
        "            verbose=0,\n",
        "            validation_data=(x_test, y_test))\n",
        "  score = model.evaluate(x_test, y_test, verbose=0)\n",
        "\n",
        "  print('Test loss: {}, Test accuracy {} for {}'.format(score[0], score[1], name))\n",
        "  return model\n",
        "\n",
        "model = model_final(\"final model\")\n",
        "\n",
        "pickle.dump(model, open(\"final_model.sav\", 'wb'))\n",
        " \n",
        "# # load the model from disk\n",
        "# loaded_model = pickle.load(open(filename, 'rb'))\n",
        "# result = loaded_model.score(X_test, Y_test)"
      ],
      "metadata": {
        "colab": {
          "base_uri": "https://localhost:8080/"
        },
        "id": "-6Mm97W3JsGm",
        "outputId": "074cbcbe-0921-457f-c269-82f847bcf87d"
      },
      "execution_count": 22,
      "outputs": [
        {
          "output_type": "stream",
          "name": "stdout",
          "text": [
            "Test loss: 0.0370384119451046, Test accuracy 0.9889000058174133 for final model\n",
            "INFO:tensorflow:Assets written to: ram://a768530e-84e2-4f66-a87d-040625133eb2/assets\n"
          ]
        }
      ]
    }
  ],
  "metadata": {
    "colab": {
      "collapsed_sections": [],
      "name": "Assignment_7_NN.ipynb",
      "provenance": []
    },
    "kernelspec": {
      "display_name": "Python 3 (ipykernel)",
      "language": "python",
      "name": "python3"
    },
    "language_info": {
      "codemirror_mode": {
        "name": "ipython",
        "version": 3
      },
      "file_extension": ".py",
      "mimetype": "text/x-python",
      "name": "python",
      "nbconvert_exporter": "python",
      "pygments_lexer": "ipython3",
      "version": "3.8.10"
    }
  },
  "nbformat": 4,
  "nbformat_minor": 0
}