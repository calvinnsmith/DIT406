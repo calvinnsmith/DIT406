{
  "nbformat": 4,
  "nbformat_minor": 0,
  "metadata": {
    "colab": {
      "name": "DIT406_Assignment4_DATA.ipynb",
      "provenance": [],
      "collapsed_sections": []
    },
    "kernelspec": {
      "display_name": "Python 3",
      "name": "python3"
    },
    "language_info": {
      "name": "python"
    }
  },
  "cells": [
    {
      "cell_type": "markdown",
      "metadata": {
        "id": "HY-f5GVUApZ1"
      },
      "source": [
        "## Importing the files"
      ]
    },
    {
      "cell_type": "code",
      "metadata": {
        "id": "ehzP1gmnV3nY"
      },
      "source": [
        "from google.colab import files\n",
        "uploaded = files.upload()"
      ],
      "execution_count": null,
      "outputs": []
    },
    {
      "cell_type": "code",
      "metadata": {
        "colab": {
          "base_uri": "https://localhost:8080/"
        },
        "id": "Eu47ebfzDl-8",
        "outputId": "70d509ec-da3b-46ad-eff3-e9de11069361"
      },
      "source": [
        "%cd '/content'"
      ],
      "execution_count": null,
      "outputs": [
        {
          "output_type": "stream",
          "name": "stdout",
          "text": [
            "/content\n"
          ]
        }
      ]
    },
    {
      "cell_type": "code",
      "metadata": {
        "id": "MiH-QaYHDN_g"
      },
      "source": [
        "import tarfile\n",
        "tar_easy_ham = tarfile.open('20021010_easy_ham.tar.bz2')\n",
        "tar_easy_ham.extractall()\n",
        "tar_easy_ham.close()"
      ],
      "execution_count": null,
      "outputs": []
    },
    {
      "cell_type": "code",
      "metadata": {
        "id": "ZAq-F1JkDRME"
      },
      "source": [
        "tar_hard_ham = tarfile.open('20021010_hard_ham.tar.bz2')\n",
        "tar_hard_ham.extractall()\n",
        "tar_hard_ham.close()\n"
      ],
      "execution_count": null,
      "outputs": []
    },
    {
      "cell_type": "code",
      "metadata": {
        "id": "ytlBFIsQDUSs"
      },
      "source": [
        "tar_spam = tarfile.open('20021010_spam.tar.bz2')\n",
        "tar_spam.extractall()\n",
        "tar_spam.close()"
      ],
      "execution_count": null,
      "outputs": []
    },
    {
      "cell_type": "markdown",
      "metadata": {
        "id": "5C3nN3y6AuCf"
      },
      "source": [
        "### Easy ham"
      ]
    },
    {
      "cell_type": "code",
      "metadata": {
        "id": "bfFrq1XBilvz"
      },
      "source": [
        "\n",
        "from pathlib import Path\n",
        "directory = \"/content/easy_ham\"\n",
        "\n",
        "# creating empty list\n",
        "easy_ham = []\n",
        "\n",
        "#iterating throguh each file in the directory easy_ham\n",
        "#opens the file, reads the contents and append it to the list easy_ham\n",
        "files = Path(directory).glob('*')\n",
        "for file in files:\n",
        "  with open(file,\"r\",encoding = \"ISO-8859-1\") as file_open:\n",
        "    content = file_open.readlines()\n",
        "    easy_ham.append(content)"
      ],
      "execution_count": null,
      "outputs": []
    },
    {
      "cell_type": "markdown",
      "metadata": {
        "id": "HsRZYfTAA6_v"
      },
      "source": [
        "### Hard ham"
      ]
    },
    {
      "cell_type": "code",
      "metadata": {
        "id": "ipQ78LTCA_cd"
      },
      "source": [
        "\n",
        "directory = \"/content/hard_ham\"\n",
        "\n",
        "hard_ham = []\n",
        "\n",
        "files = Path(directory).glob('*')\n",
        "for file in files:\n",
        "  with open(file,\"r\",encoding = \"ISO-8859-1\") as file_open:\n",
        "    content = file_open.readlines()\n",
        "    hard_ham.append(content)"
      ],
      "execution_count": null,
      "outputs": []
    },
    {
      "cell_type": "markdown",
      "metadata": {
        "id": "7ozDXEB8BINX"
      },
      "source": [
        "### Spam"
      ]
    },
    {
      "cell_type": "code",
      "metadata": {
        "id": "usQXDI73BMgk"
      },
      "source": [
        "\n",
        "directory = \"/content/spam\"\n",
        "\n",
        "spam = []\n",
        "\n",
        "files = Path(directory).glob('*')\n",
        "for file in files:\n",
        "  with open(file,\"r\",encoding = \"ISO-8859-1\") as file_open:\n",
        "    content = file_open.readlines()\n",
        "    spam.append(content)"
      ],
      "execution_count": null,
      "outputs": []
    },
    {
      "cell_type": "markdown",
      "metadata": {
        "id": "CAzkbZ-pCaKR"
      },
      "source": [
        "### Functions for creating and saving dataframes"
      ]
    },
    {
      "cell_type": "code",
      "metadata": {
        "colab": {
          "base_uri": "https://localhost:8080/"
        },
        "id": "QchdShgM0aai",
        "outputId": "e243b685-967f-44bc-9d7b-57b6cb59e756"
      },
      "source": [
        "import pandas as pd\n",
        "\n",
        "def create_data_frame(List,label):\n",
        "  #Function that iterates through a given list applies the \n",
        "  #split_into_sentences function and returns a pandas datafram where\n",
        "  #each row contains a text sentence and a given label\n",
        "\n",
        "  df = pd.DataFrame()\n",
        "  for i in range(0,len(List)):\n",
        "    #df = df.append(split_into_sentences(List[i],label))\n",
        "    df = df.append({'text': List[i]},ignore_index = True )\n",
        "    #df['label'].iloc[i] = label\n",
        "  \n",
        "  N = df.shape[0]\n",
        "  df['label'] = [label] * N\n",
        "\n",
        "  return df\n",
        "\n"
      ],
      "execution_count": null,
      "outputs": [
        {
          "output_type": "stream",
          "name": "stdout",
          "text": [
            "[nltk_data] Downloading package punkt to /root/nltk_data...\n",
            "[nltk_data]   Package punkt is already up-to-date!\n"
          ]
        }
      ]
    },
    {
      "cell_type": "markdown",
      "metadata": {
        "id": "zxVcFgZ7CnOL"
      },
      "source": [
        "### Applying function"
      ]
    },
    {
      "cell_type": "code",
      "metadata": {
        "id": "q3qGYecA-hxd"
      },
      "source": [
        "easy_ham_df = create_data_frame(easy_ham,'easy_ham')\n",
        "hard_ham_df = create_data_frame(hard_ham,'hard_ham')\n",
        "spam_df = create_data_frame(spam,'spam')"
      ],
      "execution_count": null,
      "outputs": []
    },
    {
      "cell_type": "code",
      "metadata": {
        "id": "XnPN1KEvElX6"
      },
      "source": [
        "easy_ham_df.to_csv('easy_ham_df2.csv')\n",
        "hard_ham_df.to_csv('hard_ham_df2.csv')\n",
        "spam_df.to_csv('spam_df2.csv')"
      ],
      "execution_count": null,
      "outputs": []
    }
  ]
}