{
 "cells": [
  {
   "cell_type": "code",
   "execution_count": 348,
   "id": "119d11c4-af6a-4df8-8f36-9e9981f18304",
   "metadata": {},
   "outputs": [],
   "source": [
    "import pandas as pd\n",
    "import os\n",
    "from pathlib import Path\n",
    "from sklearn.model_selection import train_test_split\n",
    "from sklearn.feature_extraction.text import CountVectorizer\n",
    "from sklearn.naive_bayes import MultinomialNB, BernoulliNB\n",
    "from sklearn import metrics\n",
    "import seaborn as sns\n",
    "import matplotlib.pyplot as plt\n",
    "from collections import Counter"
   ]
  },
  {
   "cell_type": "code",
   "execution_count": 349,
   "id": "b89f9532-c4e2-42a7-a1ac-d649bfb61482",
   "metadata": {},
   "outputs": [
    {
     "name": "stdout",
     "output_type": "stream",
     "text": [
      "hard ham:  250\n",
      "easy ham:  2551\n",
      "spam:  501\n"
     ]
    }
   ],
   "source": [
    "def load_emails(path, email_type):\n",
    "    rows = []\n",
    "    for email in os.listdir(path):\n",
    "        content = Path(path, email).read_text(encoding='latin-1')\n",
    "        contents = {'Type': email_type, 'Content': content}\n",
    "        rows.append(contents)\n",
    "        \n",
    "    return pd.DataFrame(rows, columns=['Type', 'Content'])\n",
    "    \n",
    "hard_ham = load_emails('hard_ham/', 'ham')\n",
    "easy_ham = load_emails('easy_ham/', 'ham')\n",
    "spam = load_emails('spam/', 'spam')\n",
    "\n",
    "print('hard ham: ', len(hard_ham))\n",
    "print('easy ham: ', len(easy_ham))\n",
    "print('spam: ', len(spam))"
   ]
  },
  {
   "cell_type": "code",
   "execution_count": 350,
   "id": "f03a1898-baf5-4a8f-b382-31e47f3174a1",
   "metadata": {},
   "outputs": [],
   "source": [
    "# fit learns the vocabulary\n",
    "# transform creates a document-term matrix using the vocabulary\n",
    "def bayes(X_train, X_test, Y_trainlabel, Y_testlabel, filter_words=None):\n",
    "    vectorizer = CountVectorizer(stop_words=filter_words, encoding='latin-1')\n",
    "    X_train_count = vectorizer.fit_transform(X_train)\n",
    "    X_test_count = vectorizer.transform(X_test)\n",
    "\n",
    "    # 1. Multinomial Naive Bayes - discrete data. Total Count\n",
    "    multinomial_model = MultinomialNB()\n",
    "    multinomial_model.fit(X_train_count, Y_trainlabel)\n",
    "    multinomial_pred = multinomial_model.predict(X_test_count)\n",
    "\n",
    "    # 2. Bernoulli Naive Bayes - binary\n",
    "    vectorizer = CountVectorizer(stop_words=filter_words, encoding='latin-1', binary=True)\n",
    "    X_train_count = vectorizer.fit_transform(X_train)\n",
    "    X_test_count = vectorizer.transform(X_test)\n",
    "    \n",
    "    bernoulli_model = BernoulliNB()\n",
    "    bernoulli_model.fit(X_train_count, Y_trainlabel)\n",
    "    bernoulli_pred = bernoulli_model.predict(X_test_count)\n",
    "\n",
    "    multinomial_cm = metrics.confusion_matrix(Y_testlabel, multinomial_pred)\n",
    "    bernoulli_cm = metrics.confusion_matrix(Y_testlabel, bernoulli_pred)\n",
    "    \n",
    "    mTN = multinomial_cm[0][0]\n",
    "    mFN = multinomial_cm[1][0]\n",
    "    mTP = multinomial_cm[1][1]\n",
    "    mFP = multinomial_cm[0][1]\n",
    "    \n",
    "    bTN = bernoulli_cm[0][0]\n",
    "    bFN = bernoulli_cm[1][0]\n",
    "    bTP = bernoulli_cm[1][1]\n",
    "    bFP = bernoulli_cm[0][1]\n",
    "    \n",
    "    # Make subplots\n",
    "    fig, ax = plt.subplots(1,2)\n",
    "    fig.set_size_inches(12, 4)\n",
    "    labels=['Spam', 'Not Spam']\n",
    "    \n",
    "    sns.heatmap(multinomial_cm, annot=True, fmt='d', xticklabels=labels, yticklabels=labels, cmap=\"Blues\", ax=ax[0])\n",
    "    ax[0].set_ylabel('Predicted')\n",
    "    ax[0].set_xlabel('Actual')\n",
    "    ax[0].set_title('Multinomial')\n",
    "    \n",
    "    sns.heatmap(bernoulli_cm, annot=True, fmt='d', xticklabels=labels, yticklabels=labels, cmap=\"Blues\", ax=ax[1])\n",
    "    ax[1].set_ylabel('Predicted')\n",
    "    ax[1].set_xlabel('Actual')\n",
    "    ax[1].set_title('Bernoulli')\n",
    "    \n",
    "    # Scores TPR = TP/TP+FN, TNR = TN/FP+TN\n",
    "    print('Multinomial %: ', accuracy_score(Y_testlabel, multinomial_pred))\n",
    "    print('True Spam: ', \"{:.2f}\".format(mTP /(mFP+mTP)))\n",
    "    print('True Ham: ', \"{:.2f}\".format(mTN /(mTN+mFN)))\n",
    "    \n",
    "    print('Bernoulli %: ', accuracy_score(Y_testlabel, bernoulli_pred)) \n",
    "    print('True Spam: ', \"{:.2f}\".format(bTP /(bFP+bTP)))\n",
    "    print('True Ham: ', \"{:.2f}\".format(bTN /(bTN+bFN)))"
   ]
  },
  {
   "cell_type": "code",
   "execution_count": 351,
   "id": "d198e369-07bc-46b4-9661-6e00fbdd276f",
   "metadata": {},
   "outputs": [
    {
     "name": "stdout",
     "output_type": "stream",
     "text": [
      "Multinomial %:  0.945\n",
      "True Spam:  1.00\n",
      "True Ham:  0.90\n",
      "Bernoulli %:  0.915\n",
      "True Spam:  1.00\n",
      "True Ham:  0.85\n"
     ]
    },
    {
     "data": {
      "image/png": "[encoded data removed]",
      "text/plain": [
       "<Figure size 864x288 with 4 Axes>"
      ]
     },
     "metadata": {
      "needs_background": "light"
     },
     "output_type": "display_data"
    }
   ],
   "source": [
    "# Spam vs easy-ham\n",
    "# hard ham:  250\n",
    "# easy ham:  2551\n",
    "# spam:  501\n",
    "easy_ham_sampled = easy_ham.sample(501)\n",
    "\n",
    "spam_train = spam.sample(frac = 0.8,random_state=25)\n",
    "spam_test = spam.drop(spam_train.index,axis = 0)\n",
    "\n",
    "ham_train = easy_ham_sampled.sample(frac = 0.8,random_state=25)\n",
    "ham_test = easy_ham_sampled.drop(ham_train.index,axis = 0)\n",
    "\n",
    "X_train = pd.concat([ham_train,spam_train])\n",
    "X_test = pd.concat([ham_test,spam_test])\n",
    "Y_trainlabel = X_train.Type\n",
    "Y_testlabel = X_test.Type\n",
    "X_train = X_train.Content\n",
    "X_test = X_test.Content\n",
    "\n",
    "bayes(X_train, X_test, Y_trainlabel, Y_testlabel)"
   ]
  },
  {
   "cell_type": "code",
   "execution_count": 352,
   "id": "9add8300-a41e-4c2b-a536-9b636e4e6051",
   "metadata": {},
   "outputs": [
    {
     "name": "stdout",
     "output_type": "stream",
     "text": [
      "Multinomial %:  0.85\n",
      "True Spam:  0.81\n",
      "True Ham:  0.91\n",
      "Bernoulli %:  0.81\n",
      "True Spam:  0.77\n",
      "True Ham:  0.86\n"
     ]
    },
    {
     "data": {
      "image/png": "[encoded data removed]",
      "text/plain": [
       "<Figure size 864x288 with 4 Axes>"
      ]
     },
     "metadata": {
      "needs_background": "light"
     },
     "output_type": "display_data"
    }
   ],
   "source": [
    "# Spam vs hard-ham\n",
    "# hard ham:  250\n",
    "# easy ham:  2551\n",
    "# spam:  501\n",
    "spam_sampled = spam.sample(250)\n",
    "\n",
    "spam_train = spam_sampled.sample(frac = 0.8,random_state=25)\n",
    "spam_test = spam_sampled.drop(spam_train.index,axis = 0)\n",
    "\n",
    "ham_train = hard_ham.sample(frac = 0.8,random_state=25)\n",
    "ham_test = hard_ham.drop(ham_train.index,axis = 0)\n",
    "\n",
    "X_train = pd.concat([ham_train,spam_train])\n",
    "X_test = pd.concat([ham_test,spam_test])\n",
    "Y_trainlabel = X_train.Type\n",
    "Y_testlabel = X_test.Type\n",
    "X_train = X_train.Content\n",
    "X_test = X_test.Content\n",
    "\n",
    "bayes(X_train, X_test, Y_trainlabel, Y_testlabel)"
   ]
  },
  {
   "cell_type": "code",
   "execution_count": 353,
   "id": "7075292d-687e-4418-806e-b25066057771",
   "metadata": {},
   "outputs": [],
   "source": [
    "# 5. Filter out the headers and the footers of the emails before you run on them. The format may\n",
    "# vary somewhat between emails, which can make this a bit tricky, so perfect filtering is not\n",
    "# required. Run your program again and answer the following questions:\n",
    "import email\n",
    "import re\n",
    "\n",
    "def extract_body(e):\n",
    "    body = \"\"\n",
    "    b = email.message_from_string(e)\n",
    "    if b.is_multipart():\n",
    "        for part in b.walk():\n",
    "            ctype = part.get_content_type()\n",
    "            if ctype == 'text/plain':\n",
    "                return str(part.get_payload(decode=True))\n",
    "            if ctype == 'text/html':\n",
    "                body = part.get_payload(decode=True)\n",
    "                return str(re.sub('<[^<]+?>', '', body.decode('latin-1')))\n",
    "    else:\n",
    "        body = b.get_payload(decode=True)\n",
    "        return str(re.sub('<[^<]+?>', '', body.decode('latin-1')))"
   ]
  },
  {
   "cell_type": "code",
   "execution_count": 369,
   "id": "f3231cfa-406f-4ba3-86b6-6ddacb8ab369",
   "metadata": {},
   "outputs": [],
   "source": [
    "import warnings\n",
    "warnings.filterwarnings(\"ignore\")\n",
    "# To avoid classification based on common and uninformative words it is common to filter\n",
    "# these out.\n",
    "# a. Argue why this may be useful. Try finding the words that are too common/uncommon\n",
    "# in the dataset.\n",
    "#emails = pd.concat([spam, hard_ham, easy_ham])\n",
    "#emails['Body'] = [extract_body(element) for element in emails['Content']]\n",
    "pd.set_option(\"display.max_rows\", None, \"display.max_columns\", None)\n",
    "\n",
    "spam['Body'] = [extract_body(element) for element in spam['Content']]\n",
    "hard_ham['Body'] = [extract_body(element) for element in hard_ham['Content']]\n",
    "easy_ham['Body'] = [extract_body(element) for element in easy_ham['Content']]\n",
    "\n",
    "def filter_common(email_group):\n",
    "    words = Counter(\" \".join(email_group.Body).split())\n",
    "    most_common = words.most_common(100)\n",
    "    return most_common\n",
    "\n",
    "def filter_uncommon(email_group):\n",
    "    words = Counter(\" \".join(email_group.Body).split())\n",
    "    least_common = [word for word in words if words[word] == 1]\n",
    "    return least_common\n",
    "    \n",
    "filtered_common_spam = filter_common(spam)\n",
    "filtered_uncommon_spam = filter_uncommon(spam)\n",
    "\n",
    "filtered_common_hard_ham = filter_common(hard_ham)\n",
    "filtered_uncommon_hard_ham = filter_uncommon(hard_ham)\n",
    "\n",
    "filtered_common_easy_ham = filter_common(easy_ham)\n",
    "filtered_uncommon_easy_ham = filter_uncommon(easy_ham)\n",
    "\n",
    "least_common = filtered_uncommon_spam + filtered_uncommon_hard_ham + filtered_uncommon_easy_ham\n",
    "\n",
    "#print('Common Words in Spam: ', filtered_common_spam, '\\n')\n",
    "#print('Common words in Hard Ham: ', filtered_common_hard_ham, '\\n')\n",
    "#print('Common words in Easy Ham: ', filtered_common_easy_ham, '\\n')\n",
    "\n",
    "df1 = pd.DataFrame(filtered_common_spam)\n",
    "df2 = pd.DataFrame(filtered_common_hard_ham)\n",
    "df3 = pd.DataFrame(filtered_common_easy_ham)\n",
    "\n",
    "x1 = df1.iloc[:,0]\n",
    "x2 = df2.iloc[:,0]\n",
    "x3 = df3.iloc[:,0]\n",
    "\n",
    "in_common = list(set(x1) & set(x2) & set(x3))\n",
    "\n",
    "filtered_words = in_common + least_common"
   ]
  },
  {
   "cell_type": "code",
   "execution_count": 370,
   "id": "415a45ef-c456-46e0-b058-c1bb0f5a4f62",
   "metadata": {},
   "outputs": [
    {
     "name": "stdout",
     "output_type": "stream",
     "text": [
      "Multinomial %:  0.97\n",
      "True Spam:  0.97\n",
      "True Ham:  0.97\n",
      "Bernoulli %:  0.88\n",
      "True Spam:  0.99\n",
      "True Ham:  0.81\n"
     ]
    },
    {
     "data": {
      "image/png": "[encoded data removed]",
      "text/plain": [
       "<Figure size 864x288 with 4 Axes>"
      ]
     },
     "metadata": {
      "needs_background": "light"
     },
     "output_type": "display_data"
    }
   ],
   "source": [
    "# a. Does the result improve from 3 and 4?\n",
    "\n",
    "# Spam vs easy-ham with filtering and removing common/uncommon words\n",
    "# hard ham:  250\n",
    "# easy ham:  2551\n",
    "# spam:  501\n",
    "from sklearn.model_selection import train_test_split\n",
    "easy_ham['Body'] = [extract_body(element) for element in easy_ham['Content']]\n",
    "spam['Body'] = [extract_body(element) for element in spam['Content']]\n",
    "\n",
    "easy_ham_sampled = easy_ham.sample(501)\n",
    "\n",
    "spam_train = spam.sample(frac = 0.8,random_state=25)\n",
    "spam_test = spam.drop(spam_train.index,axis = 0)\n",
    "\n",
    "ham_train = easy_ham_sampled.sample(frac = 0.8,random_state=25)\n",
    "ham_test = easy_ham_sampled.drop(ham_train.index,axis = 0)\n",
    "\n",
    "X_train = pd.concat([ham_train,spam_train])\n",
    "X_test = pd.concat([ham_test,spam_test])\n",
    "Y_trainlabel = X_train.Type\n",
    "Y_testlabel = X_test.Type\n",
    "X_train = X_train.Body\n",
    "X_test = X_test.Body\n",
    "\n",
    "bayes(X_train, X_test, Y_trainlabel, Y_testlabel, filtered_words)"
   ]
  },
  {
   "cell_type": "code",
   "execution_count": 371,
   "id": "4f32c00e-c822-4320-9a2a-70694c472fd0",
   "metadata": {},
   "outputs": [
    {
     "name": "stdout",
     "output_type": "stream",
     "text": [
      "Multinomial %:  0.9\n",
      "True Spam:  0.93\n",
      "True Ham:  0.87\n",
      "Bernoulli %:  0.82\n",
      "True Spam:  0.76\n",
      "True Ham:  0.92\n"
     ]
    },
    {
     "data": {
      "image/png": "[encoded data removed]",
      "text/plain": [
       "<Figure size 864x288 with 4 Axes>"
      ]
     },
     "metadata": {
      "needs_background": "light"
     },
     "output_type": "display_data"
    }
   ],
   "source": [
    "# Spam vs hard-ham with filtering and removing common/uncommon words\n",
    "# hard ham:  250\n",
    "# easy ham:  2551\n",
    "# spam:  501\n",
    "hard_ham['Body'] = [extract_body(element) for element in hard_ham['Content']]\n",
    "spam['Body'] = [extract_body(element) for element in spam['Content']]\n",
    "\n",
    "spam_sampled = spam.sample(250)\n",
    "\n",
    "spam_train = spam_sampled.sample(frac = 0.8,random_state=25)\n",
    "spam_test = spam_sampled.drop(spam_train.index,axis = 0)\n",
    "\n",
    "ham_train = hard_ham.sample(frac = 0.8,random_state=25)\n",
    "ham_test = hard_ham.drop(ham_train.index,axis = 0)\n",
    "\n",
    "X_train = pd.concat([ham_train,spam_train])\n",
    "X_test = pd.concat([ham_test,spam_test])\n",
    "Y_trainlabel = X_train.Type\n",
    "Y_testlabel = X_test.Type\n",
    "X_train = X_train.Body\n",
    "X_test = X_test.Body\n",
    "\n",
    "bayes(X_train, X_test, Y_trainlabel, Y_testlabel, filtered_words)"
   ]
  },
  {
   "cell_type": "code",
   "execution_count": 375,
   "id": "74c6d5a4-0774-4769-9736-40cc2953996b",
   "metadata": {},
   "outputs": [],
   "source": [
    "def filter_common(email_group):\n",
    "    words = Counter(\" \".join(email_group.Content).split())\n",
    "    most_common = words.most_common(100)\n",
    "    return most_common\n",
    "\n",
    "def filter_uncommon(email_group):\n",
    "    words = Counter(\" \".join(email_group.Content).split())\n",
    "    least_common = [word for word in words if words[word] == 1]\n",
    "    return least_common\n",
    "    \n",
    "filtered_common_spam = filter_common(spam)\n",
    "filtered_uncommon_spam = filter_uncommon(spam)\n",
    "\n",
    "filtered_common_hard_ham = filter_common(hard_ham)\n",
    "filtered_uncommon_hard_ham = filter_uncommon(hard_ham)\n",
    "\n",
    "filtered_common_easy_ham = filter_common(easy_ham)\n",
    "filtered_uncommon_easy_ham = filter_uncommon(easy_ham)\n",
    "\n",
    "least_common = filtered_uncommon_spam + filtered_uncommon_hard_ham + filtered_uncommon_easy_ham\n",
    "\n",
    "df1 = pd.DataFrame(filtered_common_spam)\n",
    "df2 = pd.DataFrame(filtered_common_hard_ham)\n",
    "df3 = pd.DataFrame(filtered_common_easy_ham)\n",
    "\n",
    "x1 = df1.iloc[:,0]\n",
    "x2 = df2.iloc[:,0]\n",
    "x3 = df3.iloc[:,0]\n",
    "\n",
    "in_common = list(set(x1) & set(x2) & set(x3))\n",
    "\n",
    "filtered_words = in_common + least_common"
   ]
  },
  {
   "cell_type": "code",
   "execution_count": 376,
   "id": "f6b23c0f-65f5-4399-82b4-f98cad58a483",
   "metadata": {},
   "outputs": [
    {
     "name": "stdout",
     "output_type": "stream",
     "text": [
      "Multinomial %:  0.965\n",
      "True Spam:  1.00\n",
      "True Ham:  0.93\n",
      "Bernoulli %:  0.93\n",
      "True Spam:  1.00\n",
      "True Ham:  0.88\n"
     ]
    },
    {
     "data": {
      "image/png": "[encoded data removed]",
      "text/plain": [
       "<Figure size 864x288 with 4 Axes>"
      ]
     },
     "metadata": {
      "needs_background": "light"
     },
     "output_type": "display_data"
    }
   ],
   "source": [
    "# Spam vs easy-ham with removing common/uncommon words\n",
    "# hard ham:  250\n",
    "# easy ham:  2551\n",
    "# spam:  501\n",
    "easy_ham_sampled = easy_ham.sample(501)\n",
    "\n",
    "spam_train = spam.sample(frac = 0.8,random_state=25)\n",
    "spam_test = spam.drop(spam_train.index,axis = 0)\n",
    "\n",
    "ham_train = easy_ham_sampled.sample(frac = 0.8,random_state=25)\n",
    "ham_test = easy_ham_sampled.drop(ham_train.index,axis = 0)\n",
    "\n",
    "X_train = pd.concat([ham_train,spam_train])\n",
    "X_test = pd.concat([ham_test,spam_test])\n",
    "Y_trainlabel = X_train.Type\n",
    "Y_testlabel = X_test.Type\n",
    "X_train = X_train.Content\n",
    "X_test = X_test.Content\n",
    "\n",
    "bayes(X_train, X_test, Y_trainlabel, Y_testlabel, filtered_words)"
   ]
  },
  {
   "cell_type": "code",
   "execution_count": 377,
   "id": "5392e9bf-f443-4b07-8151-861b2e59833e",
   "metadata": {},
   "outputs": [
    {
     "name": "stdout",
     "output_type": "stream",
     "text": [
      "Multinomial %:  0.88\n",
      "True Spam:  0.82\n",
      "True Ham:  0.97\n",
      "Bernoulli %:  0.85\n",
      "True Spam:  0.77\n",
      "True Ham:  1.00\n"
     ]
    },
    {
     "data": {
      "image/png": "[encoded data removed]",
      "text/plain": [
       "<Figure size 864x288 with 4 Axes>"
      ]
     },
     "metadata": {
      "needs_background": "light"
     },
     "output_type": "display_data"
    }
   ],
   "source": [
    "# Spam vs hard-ham with removing common/uncommon words\n",
    "# hard ham:  250\n",
    "# easy ham:  2551\n",
    "# spam:  501\n",
    "spam_sampled = spam.sample(250)\n",
    "\n",
    "spam_train = spam_sampled.sample(frac = 0.8,random_state=25)\n",
    "spam_test = spam_sampled.drop(spam_train.index,axis = 0)\n",
    "\n",
    "ham_train = hard_ham.sample(frac = 0.8,random_state=25)\n",
    "ham_test = hard_ham.drop(ham_train.index,axis = 0)\n",
    "\n",
    "X_train = pd.concat([ham_train,spam_train])\n",
    "X_test = pd.concat([ham_test,spam_test])\n",
    "Y_trainlabel = X_train.Type\n",
    "Y_testlabel = X_test.Type\n",
    "X_train = X_train.Content\n",
    "X_test = X_test.Content\n",
    "\n",
    "bayes(X_train, X_test, Y_trainlabel, Y_testlabel, filtered_words)"
   ]
  }
 ],
 "metadata": {
  "kernelspec": {
   "display_name": "Python 3 (ipykernel)",
   "language": "python",
   "name": "python3"
  },
  "language_info": {
   "codemirror_mode": {
    "name": "ipython",
    "version": 3
   },
   "file_extension": ".py",
   "mimetype": "text/x-python",
   "name": "python",
   "nbconvert_exporter": "python",
   "pygments_lexer": "ipython3",
   "version": "3.8.10"
  }
 },
 "nbformat": 4,
 "nbformat_minor": 5
}
